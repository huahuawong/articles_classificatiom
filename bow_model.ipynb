{
 "cells": [
  {
   "cell_type": "markdown",
   "metadata": {},
   "source": [
    "# Bag of Words to classify articles"
   ]
  },
  {
   "cell_type": "markdown",
   "metadata": {},
   "source": [
    "## 1. Getting all the packages"
   ]
  },
  {
   "cell_type": "code",
   "execution_count": 3,
   "metadata": {},
   "outputs": [
    {
     "name": "stderr",
     "output_type": "stream",
     "text": [
      "C:\\Users\\User\\miniconda3\\envs\\PythonCPU\\lib\\site-packages\\statsmodels\\tools\\_testing.py:19: FutureWarning: pandas.util.testing is deprecated. Use the functions in the public API at pandas.testing instead.\n",
      "  import pandas.util.testing as tm\n"
     ]
    }
   ],
   "source": [
    "# Getting all the imports\n",
    "import numpy as np\n",
    "import pandas as pd\n",
    "import nltk\n",
    "\n",
    "from sklearn.metrics import classification_report\n",
    "import json\n",
    "import itertools\n",
    "from statistics import mean\n",
    "import re\n",
    "import string\n",
    "from gensim.models import word2vec\n",
    "from sklearn.manifold import TSNE\n",
    "from sklearn.model_selection import train_test_split\n",
    "from sklearn.feature_extraction import _stop_words\n",
    "from sklearn.feature_extraction.text import CountVectorizer\n",
    "from sklearn.multioutput import MultiOutputClassifier\n",
    "from sklearn.naive_bayes import MultinomialNB\n",
    "from sklearn.linear_model import LogisticRegression\n",
    "from sklearn.metrics import roc_auc_score\n",
    "import matplotlib.pyplot as plt\n",
    "import seaborn as sns\n",
    "import os\n"
   ]
  },
  {
   "cell_type": "code",
   "execution_count": 4,
   "metadata": {},
   "outputs": [
    {
     "name": "stdout",
     "output_type": "stream",
     "text": [
      "./data\\arxiv-metadata-oai-snapshot.json\n"
     ]
    }
   ],
   "source": [
    "for dirname, _, filenames in os.walk('./data'):\n",
    "    for filename in filenames:\n",
    "        print(os.path.join(dirname, filename))\n",
    "\n",
    "\n",
    "def load_file():\n",
    "    with open('./data/arxiv-metadata-oai-snapshot.json') as f:\n",
    "        for line in f:\n",
    "            yield json.loads(line)\n"
   ]
  },
  {
   "cell_type": "markdown",
   "metadata": {},
   "source": [
    "## 2. Exploratory Data Analysis"
   ]
  },
  {
   "cell_type": "code",
   "execution_count": 5,
   "metadata": {},
   "outputs": [
    {
     "data": {
      "text/html": [
       "<div>\n",
       "<style scoped>\n",
       "    .dataframe tbody tr th:only-of-type {\n",
       "        vertical-align: middle;\n",
       "    }\n",
       "\n",
       "    .dataframe tbody tr th {\n",
       "        vertical-align: top;\n",
       "    }\n",
       "\n",
       "    .dataframe thead th {\n",
       "        text-align: right;\n",
       "    }\n",
       "</style>\n",
       "<table border=\"1\" class=\"dataframe\">\n",
       "  <thead>\n",
       "    <tr style=\"text-align: right;\">\n",
       "      <th></th>\n",
       "      <th>id</th>\n",
       "      <th>submitter</th>\n",
       "      <th>authors</th>\n",
       "      <th>title</th>\n",
       "      <th>comments</th>\n",
       "      <th>journal-ref</th>\n",
       "      <th>doi</th>\n",
       "      <th>report-no</th>\n",
       "      <th>categories</th>\n",
       "      <th>license</th>\n",
       "      <th>abstract</th>\n",
       "      <th>versions</th>\n",
       "      <th>update_date</th>\n",
       "      <th>authors_parsed</th>\n",
       "    </tr>\n",
       "  </thead>\n",
       "  <tbody>\n",
       "    <tr>\n",
       "      <th>0</th>\n",
       "      <td>0704.0001</td>\n",
       "      <td>Pavel Nadolsky</td>\n",
       "      <td>C. Bal\\'azs, E. L. Berger, P. M. Nadolsky, C.-...</td>\n",
       "      <td>Calculation of prompt diphoton production cros...</td>\n",
       "      <td>37 pages, 15 figures; published version</td>\n",
       "      <td>Phys.Rev.D76:013009,2007</td>\n",
       "      <td>10.1103/PhysRevD.76.013009</td>\n",
       "      <td>ANL-HEP-PR-07-12</td>\n",
       "      <td>hep-ph</td>\n",
       "      <td>None</td>\n",
       "      <td>A fully differential calculation in perturba...</td>\n",
       "      <td>[{'version': 'v1', 'created': 'Mon, 2 Apr 2007...</td>\n",
       "      <td>2008-11-26</td>\n",
       "      <td>[[Balázs, C., ], [Berger, E. L., ], [Nadolsky,...</td>\n",
       "    </tr>\n",
       "    <tr>\n",
       "      <th>1</th>\n",
       "      <td>0704.0002</td>\n",
       "      <td>Louis Theran</td>\n",
       "      <td>Ileana Streinu and Louis Theran</td>\n",
       "      <td>Sparsity-certifying Graph Decompositions</td>\n",
       "      <td>To appear in Graphs and Combinatorics</td>\n",
       "      <td>None</td>\n",
       "      <td>None</td>\n",
       "      <td>None</td>\n",
       "      <td>math.CO cs.CG</td>\n",
       "      <td>http://arxiv.org/licenses/nonexclusive-distrib...</td>\n",
       "      <td>We describe a new algorithm, the $(k,\\ell)$-...</td>\n",
       "      <td>[{'version': 'v1', 'created': 'Sat, 31 Mar 200...</td>\n",
       "      <td>2008-12-13</td>\n",
       "      <td>[[Streinu, Ileana, ], [Theran, Louis, ]]</td>\n",
       "    </tr>\n",
       "    <tr>\n",
       "      <th>2</th>\n",
       "      <td>0704.0003</td>\n",
       "      <td>Hongjun Pan</td>\n",
       "      <td>Hongjun Pan</td>\n",
       "      <td>The evolution of the Earth-Moon system based o...</td>\n",
       "      <td>23 pages, 3 figures</td>\n",
       "      <td>None</td>\n",
       "      <td>None</td>\n",
       "      <td>None</td>\n",
       "      <td>physics.gen-ph</td>\n",
       "      <td>None</td>\n",
       "      <td>The evolution of Earth-Moon system is descri...</td>\n",
       "      <td>[{'version': 'v1', 'created': 'Sun, 1 Apr 2007...</td>\n",
       "      <td>2008-01-13</td>\n",
       "      <td>[[Pan, Hongjun, ]]</td>\n",
       "    </tr>\n",
       "    <tr>\n",
       "      <th>3</th>\n",
       "      <td>0704.0004</td>\n",
       "      <td>David Callan</td>\n",
       "      <td>David Callan</td>\n",
       "      <td>A determinant of Stirling cycle numbers counts...</td>\n",
       "      <td>11 pages</td>\n",
       "      <td>None</td>\n",
       "      <td>None</td>\n",
       "      <td>None</td>\n",
       "      <td>math.CO</td>\n",
       "      <td>None</td>\n",
       "      <td>We show that a determinant of Stirling cycle...</td>\n",
       "      <td>[{'version': 'v1', 'created': 'Sat, 31 Mar 200...</td>\n",
       "      <td>2007-05-23</td>\n",
       "      <td>[[Callan, David, ]]</td>\n",
       "    </tr>\n",
       "    <tr>\n",
       "      <th>4</th>\n",
       "      <td>0704.0005</td>\n",
       "      <td>Alberto Torchinsky</td>\n",
       "      <td>Wael Abu-Shammala and Alberto Torchinsky</td>\n",
       "      <td>From dyadic $\\Lambda_{\\alpha}$ to $\\Lambda_{\\a...</td>\n",
       "      <td>None</td>\n",
       "      <td>Illinois J. Math. 52 (2008) no.2, 681-689</td>\n",
       "      <td>None</td>\n",
       "      <td>None</td>\n",
       "      <td>math.CA math.FA</td>\n",
       "      <td>None</td>\n",
       "      <td>In this paper we show how to compute the $\\L...</td>\n",
       "      <td>[{'version': 'v1', 'created': 'Mon, 2 Apr 2007...</td>\n",
       "      <td>2013-10-15</td>\n",
       "      <td>[[Abu-Shammala, Wael, ], [Torchinsky, Alberto, ]]</td>\n",
       "    </tr>\n",
       "  </tbody>\n",
       "</table>\n",
       "</div>"
      ],
      "text/plain": [
       "          id           submitter  \\\n",
       "0  0704.0001      Pavel Nadolsky   \n",
       "1  0704.0002        Louis Theran   \n",
       "2  0704.0003         Hongjun Pan   \n",
       "3  0704.0004        David Callan   \n",
       "4  0704.0005  Alberto Torchinsky   \n",
       "\n",
       "                                             authors  \\\n",
       "0  C. Bal\\'azs, E. L. Berger, P. M. Nadolsky, C.-...   \n",
       "1                    Ileana Streinu and Louis Theran   \n",
       "2                                        Hongjun Pan   \n",
       "3                                       David Callan   \n",
       "4           Wael Abu-Shammala and Alberto Torchinsky   \n",
       "\n",
       "                                               title  \\\n",
       "0  Calculation of prompt diphoton production cros...   \n",
       "1           Sparsity-certifying Graph Decompositions   \n",
       "2  The evolution of the Earth-Moon system based o...   \n",
       "3  A determinant of Stirling cycle numbers counts...   \n",
       "4  From dyadic $\\Lambda_{\\alpha}$ to $\\Lambda_{\\a...   \n",
       "\n",
       "                                  comments  \\\n",
       "0  37 pages, 15 figures; published version   \n",
       "1    To appear in Graphs and Combinatorics   \n",
       "2                      23 pages, 3 figures   \n",
       "3                                 11 pages   \n",
       "4                                     None   \n",
       "\n",
       "                                 journal-ref                         doi  \\\n",
       "0                   Phys.Rev.D76:013009,2007  10.1103/PhysRevD.76.013009   \n",
       "1                                       None                        None   \n",
       "2                                       None                        None   \n",
       "3                                       None                        None   \n",
       "4  Illinois J. Math. 52 (2008) no.2, 681-689                        None   \n",
       "\n",
       "          report-no       categories  \\\n",
       "0  ANL-HEP-PR-07-12           hep-ph   \n",
       "1              None    math.CO cs.CG   \n",
       "2              None   physics.gen-ph   \n",
       "3              None          math.CO   \n",
       "4              None  math.CA math.FA   \n",
       "\n",
       "                                             license  \\\n",
       "0                                               None   \n",
       "1  http://arxiv.org/licenses/nonexclusive-distrib...   \n",
       "2                                               None   \n",
       "3                                               None   \n",
       "4                                               None   \n",
       "\n",
       "                                            abstract  \\\n",
       "0    A fully differential calculation in perturba...   \n",
       "1    We describe a new algorithm, the $(k,\\ell)$-...   \n",
       "2    The evolution of Earth-Moon system is descri...   \n",
       "3    We show that a determinant of Stirling cycle...   \n",
       "4    In this paper we show how to compute the $\\L...   \n",
       "\n",
       "                                            versions update_date  \\\n",
       "0  [{'version': 'v1', 'created': 'Mon, 2 Apr 2007...  2008-11-26   \n",
       "1  [{'version': 'v1', 'created': 'Sat, 31 Mar 200...  2008-12-13   \n",
       "2  [{'version': 'v1', 'created': 'Sun, 1 Apr 2007...  2008-01-13   \n",
       "3  [{'version': 'v1', 'created': 'Sat, 31 Mar 200...  2007-05-23   \n",
       "4  [{'version': 'v1', 'created': 'Mon, 2 Apr 2007...  2013-10-15   \n",
       "\n",
       "                                      authors_parsed  \n",
       "0  [[Balázs, C., ], [Berger, E. L., ], [Nadolsky,...  \n",
       "1           [[Streinu, Ileana, ], [Theran, Louis, ]]  \n",
       "2                                 [[Pan, Hongjun, ]]  \n",
       "3                                [[Callan, David, ]]  \n",
       "4  [[Abu-Shammala, Wael, ], [Torchinsky, Alberto, ]]  "
      ]
     },
     "execution_count": 5,
     "metadata": {},
     "output_type": "execute_result"
    }
   ],
   "source": [
    "metadata = load_file()\n",
    "\n",
    "subset = itertools.islice(metadata, 100000)\n",
    "\n",
    "df = pd.DataFrame(subset)\n",
    "df.head(5)"
   ]
  },
  {
   "cell_type": "code",
   "execution_count": 6,
   "metadata": {},
   "outputs": [
    {
     "name": "stdout",
     "output_type": "stream",
     "text": [
      "<class 'pandas.core.frame.DataFrame'>\n",
      "RangeIndex: 100000 entries, 0 to 99999\n",
      "Data columns (total 14 columns):\n",
      " #   Column          Non-Null Count   Dtype \n",
      "---  ------          --------------   ----- \n",
      " 0   id              100000 non-null  object\n",
      " 1   submitter       100000 non-null  object\n",
      " 2   authors         100000 non-null  object\n",
      " 3   title           100000 non-null  object\n",
      " 4   comments        87342 non-null   object\n",
      " 5   journal-ref     50663 non-null   object\n",
      " 6   doi             61265 non-null   object\n",
      " 7   report-no       9464 non-null    object\n",
      " 8   categories      100000 non-null  object\n",
      " 9   license         56755 non-null   object\n",
      " 10  abstract        100000 non-null  object\n",
      " 11  versions        100000 non-null  object\n",
      " 12  update_date     100000 non-null  object\n",
      " 13  authors_parsed  100000 non-null  object\n",
      "dtypes: object(14)\n",
      "memory usage: 10.7+ MB\n"
     ]
    }
   ],
   "source": [
    "df.info()"
   ]
  },
  {
   "cell_type": "markdown",
   "metadata": {},
   "source": [
    "Let's check what's the value count of each unique element in the 'categories' column"
   ]
  },
  {
   "cell_type": "code",
   "execution_count": 7,
   "metadata": {},
   "outputs": [
    {
     "data": {
      "text/plain": [
       "astro-ph             16268\n",
       "hep-ph                5326\n",
       "quant-ph              4228\n",
       "hep-th                3706\n",
       "cond-mat.mtrl-sci     2083\n",
       "gr-qc                 1953\n",
       "cond-mat.mes-hall     1709\n",
       "hep-ex                1517\n",
       "cond-mat.str-el       1504\n",
       "nucl-th               1351\n",
       "Name: categories, dtype: int64"
      ]
     },
     "execution_count": 7,
     "metadata": {},
     "output_type": "execute_result"
    }
   ],
   "source": [
    "val_count = df.categories.value_counts()\n",
    "val_count.head(10)"
   ]
  },
  {
   "cell_type": "code",
   "execution_count": 9,
   "metadata": {},
   "outputs": [
    {
     "data": {
      "text/plain": [
       "math.MG math.GR math.KT math.OA                    1\n",
       "math.ST math.SP stat.TH                            1\n",
       "nucl-th astro-ph gr-qc                             1\n",
       "cond-mat.stat-mech nlin.AO physics.data-an         1\n",
       "cs.DS cs.CC cs.CR                                  1\n",
       "astro-ph cond-mat.dis-nn cond-mat.stat-mech        1\n",
       "physics.chem-ph physics.atom-ph physics.comp-ph    1\n",
       "cs.IT cs.NI math.IT math.ST stat.TH                1\n",
       "astro-ph cond-mat.quant-gas                        1\n",
       "physics.soc-ph cond-mat.other physics.data-an      1\n",
       "Name: categories, dtype: int64"
      ]
     },
     "execution_count": 9,
     "metadata": {},
     "output_type": "execute_result"
    }
   ],
   "source": [
    "val_count.tail(10)"
   ]
  },
  {
   "cell_type": "code",
   "execution_count": 8,
   "metadata": {},
   "outputs": [
    {
     "data": {
      "text/plain": [
       "6066"
      ]
     },
     "execution_count": 8,
     "metadata": {},
     "output_type": "execute_result"
    }
   ],
   "source": [
    "df.categories.nunique()"
   ]
  },
  {
   "cell_type": "markdown",
   "metadata": {},
   "source": [
    "That is a total of 6066 categories in this data! We will narrow it down to let's say 5 categories for now since it seems like there are a lot of subcategories"
   ]
  },
  {
   "cell_type": "code",
   "execution_count": 10,
   "metadata": {},
   "outputs": [
    {
     "data": {
      "text/plain": [
       "astro-ph    16268\n",
       "hep-ph       5326\n",
       "quant-ph     4228\n",
       "hep-th       3706\n",
       "gr-qc        1953\n",
       "Name: categories, dtype: int64"
      ]
     },
     "execution_count": 10,
     "metadata": {},
     "output_type": "execute_result"
    }
   ],
   "source": [
    "df_cat = df[df['categories'].isin(['hep-ph', 'quant-ph', 'astro-ph', 'hep-th', 'gr-qc'])] # high energy physics/quantum physics\n",
    "df_cat['categories'].value_counts()"
   ]
  },
  {
   "cell_type": "code",
   "execution_count": 12,
   "metadata": {},
   "outputs": [],
   "source": [
    "df_cat = pd.get_dummies(df_cat, columns=['categories'])"
   ]
  },
  {
   "cell_type": "code",
   "execution_count": 14,
   "metadata": {},
   "outputs": [],
   "source": [
    "X = df_cat['abstract']\n",
    "\n",
    "# Dependent Variables\n",
    "y = df_cat[['categories_astro-ph', 'categories_gr-qc',\n",
    "       'categories_hep-ph', 'categories_hep-th', 'categories_quant-ph']]"
   ]
  },
  {
   "cell_type": "code",
   "execution_count": 36,
   "metadata": {},
   "outputs": [],
   "source": [
    "X_train, X_test, y_train, y_test = train_test_split(X, y, test_size=0.3, random_state=123)\n"
   ]
  },
  {
   "cell_type": "markdown",
   "metadata": {},
   "source": [
    "## 3. Creating bag of words"
   ]
  },
  {
   "cell_type": "code",
   "execution_count": 56,
   "metadata": {},
   "outputs": [
    {
     "name": "stdout",
     "output_type": "stream",
     "text": [
      "(22036, 1000) (9445, 1000)\n"
     ]
    }
   ],
   "source": [
    "stop_words = _stop_words.ENGLISH_STOP_WORDS\n",
    "# stop_words = nltk.corpus.stopwords.words()\n",
    "\n",
    "# Function for basic cleaning/preprocessing texts\n",
    "def clean(doc):\n",
    "    # Removal of punctuation marks (.,/\\][{} etc) and numbers\n",
    "    doc = \"\".join([char for char in doc if char not in string.punctuation and not char.isdigit()])\n",
    "    # Removal of stopwords\n",
    "    doc = \" \".join([token for token in doc.split() if token not in stop_words])\n",
    "    return doc.lower()\n",
    "\n",
    "vect = CountVectorizer(max_features=1000, preprocessor=clean)\n",
    "X_train_dtm = vect.fit_transform(X_train)\n",
    "X_test_dtm = vect.transform(X_test)\n",
    "\n",
    "print(X_train_dtm.shape, X_test_dtm.shape)"
   ]
  },
  {
   "cell_type": "markdown",
   "metadata": {},
   "source": [
    "## 4.0 Data Modeling\n",
    "\n",
    "To classify the articles, Naive Bayes and Logistic Regression are used to compare and contrast the difference in terms of classification performance."
   ]
  },
  {
   "cell_type": "code",
   "execution_count": 62,
   "metadata": {},
   "outputs": [],
   "source": [
    "def calculate_roc_auc(y_test, y_pred):\n",
    "    aucs = []\n",
    "    #Calculate the ROC-AUC for each of the target column\n",
    "    for col in range(y_test.shape[1]):\n",
    "        aucs.append(roc_auc_score(y_test[:,col],y_pred[:,col]))\n",
    "    return aucs"
   ]
  },
  {
   "cell_type": "code",
   "execution_count": 63,
   "metadata": {},
   "outputs": [],
   "source": [
    "nb = MultiOutputClassifier(MultinomialNB()).fit(X_train_dtm, y_train)\n",
    "\n",
    "lr = MultiOutputClassifier(LogisticRegression(class_weight='balanced', multi_class='multinomial', solver='lbfgs', max_iter=3000)) \\\n",
    "                    .fit(X_train_dtm, y_train)"
   ]
  },
  {
   "cell_type": "code",
   "execution_count": 59,
   "metadata": {},
   "outputs": [
    {
     "name": "stdout",
     "output_type": "stream",
     "text": [
      "The Classification report for MultinomialNB: \n",
      "\n",
      "              precision    recall  f1-score   support\n",
      "\n",
      "           0       0.94      0.98      0.96      4689\n",
      "           1       0.69      0.57      0.63       732\n",
      "           2       0.89      0.91      0.90      1552\n",
      "           3       0.82      0.77      0.79      1171\n",
      "           4       0.91      0.89      0.90      1301\n",
      "\n",
      "    accuracy                           0.90      9445\n",
      "   macro avg       0.85      0.82      0.84      9445\n",
      "weighted avg       0.89      0.90      0.90      9445\n",
      "\n",
      "The Classification report for LogisticRegression: \n",
      "\n",
      "              precision    recall  f1-score   support\n",
      "\n",
      "           0       0.95      0.99      0.97      4730\n",
      "           1       0.72      0.62      0.66       702\n",
      "           2       0.89      0.90      0.89      1572\n",
      "           3       0.80      0.79      0.79      1106\n",
      "           4       0.92      0.88      0.90      1335\n",
      "\n",
      "    accuracy                           0.90      9445\n",
      "   macro avg       0.86      0.83      0.84      9445\n",
      "weighted avg       0.90      0.90      0.90      9445\n",
      "\n"
     ]
    }
   ],
   "source": [
    "# Creating an empty list of results\n",
    "results = []\n",
    "# Making predictions from all the trained models and measure performance for each\n",
    "for model in [nb, lr]:\n",
    "    # Extracting name of the model\n",
    "    est = type(model.estimator).__name__\n",
    "    # Actual output variables\n",
    "    y_vals = y_test.to_numpy()\n",
    "    # Model Probabilities for class 1 of each of the target variables\n",
    "    y_preds = np.transpose(np.array(model.predict_proba(X_test_dtm))[:, :, 1])\n",
    "    # Calculate Mean of the ROC-AUC\n",
    "    mean_auc = mean(calculate_roc_auc(y_vals, y_preds))\n",
    "    \n",
    "    y_preds_2 = np.argmax(y_preds, axis=1)\n",
    "    y_test_2 = np.argmax(y_vals, axis=1)\n",
    "    print(f\"The Classification report for {est}: \\n\")\n",
    "    print(classification_report(y_preds_2, y_test_2))   \n",
    "    # Append the name of the model and the mean_roc_auc into the results list\n",
    "    results.append([est, mean_auc])\n"
   ]
  },
  {
   "cell_type": "code",
   "execution_count": 60,
   "metadata": {},
   "outputs": [
    {
     "data": {
      "text/html": [
       "<div>\n",
       "<style scoped>\n",
       "    .dataframe tbody tr th:only-of-type {\n",
       "        vertical-align: middle;\n",
       "    }\n",
       "\n",
       "    .dataframe tbody tr th {\n",
       "        vertical-align: top;\n",
       "    }\n",
       "\n",
       "    .dataframe thead th {\n",
       "        text-align: right;\n",
       "    }\n",
       "</style>\n",
       "<table border=\"1\" class=\"dataframe\">\n",
       "  <thead>\n",
       "    <tr style=\"text-align: right;\">\n",
       "      <th></th>\n",
       "      <th>Model</th>\n",
       "      <th>Mean AUC</th>\n",
       "    </tr>\n",
       "  </thead>\n",
       "  <tbody>\n",
       "    <tr>\n",
       "      <th>0</th>\n",
       "      <td>MultinomialNB</td>\n",
       "      <td>0.970303</td>\n",
       "    </tr>\n",
       "    <tr>\n",
       "      <th>1</th>\n",
       "      <td>LogisticRegression</td>\n",
       "      <td>0.980462</td>\n",
       "    </tr>\n",
       "  </tbody>\n",
       "</table>\n",
       "</div>"
      ],
      "text/plain": [
       "                Model  Mean AUC\n",
       "0       MultinomialNB  0.970303\n",
       "1  LogisticRegression  0.980462"
      ]
     },
     "execution_count": 60,
     "metadata": {},
     "output_type": "execute_result"
    }
   ],
   "source": [
    "# Output the results as a table\n",
    "pd.DataFrame(results, columns=[\"Model\", \"Mean AUC\"])"
   ]
  },
  {
   "cell_type": "markdown",
   "metadata": {},
   "source": [
    "Let's check the important words for each class"
   ]
  },
  {
   "cell_type": "code",
   "execution_count": 61,
   "metadata": {},
   "outputs": [
    {
     "data": {
      "image/png": "[encoded data removed]",
      "text/plain": [
       "<Figure size 1440x1080 with 6 Axes>"
      ]
     },
     "metadata": {},
     "output_type": "display_data"
    }
   ],
   "source": [
    "# Assigning the feature names to an empty list\n",
    "feat_impts = [vect.get_feature_names()]\n",
    "\n",
    "# For all the models save the feature importances in the list.estimators_ would give the internal models used by the multioutput regressor\n",
    "for clf in lr.estimators_:\n",
    "    feat_impts.append(clf.coef_.flatten())\n",
    "\n",
    "y_cols = ['categories_astro-ph', 'categories_gr-qc', 'categories_hep-ph', 'categories_hep-th', 'categories_quant-ph']\n",
    "\n",
    "# Saving the results in a dataframe\n",
    "df_feats_impts = pd.DataFrame(np.transpose(np.array(feat_impts)), columns = ['word', 'categories_astro-ph', 'categories_gr-qc',\n",
    "       'categories_hep-ph', 'categories_hep-th', 'categories_quant-ph'])\n",
    "#Converting Feature Importance Columns from string to float\n",
    "df_feats_impts[y_cols] = df_feats_impts[y_cols].astype(\"float32\")\n",
    "df_feats_impts.head()\n",
    "\n",
    "#Creating Individual Feature Importance table by sorting on specific toxic-type column and selecting top 5 words\n",
    "astro_fi = df_feats_impts[[\"word\",\"categories_astro-ph\"]].sort_values(by = \"categories_astro-ph\", ascending = False).head(10)\n",
    "gr_fi = df_feats_impts[[\"word\",\"categories_gr-qc\"]].sort_values(by = \"categories_gr-qc\", ascending = False).head(10)\n",
    "hep_ph_fi = df_feats_impts[[\"word\",\"categories_hep-ph\"]].sort_values(by = \"categories_hep-ph\", ascending = False).head(10)\n",
    "hep_th_fi = df_feats_impts[[\"word\",\"categories_hep-th\"]].sort_values(by = \"categories_hep-th\", ascending = False).head(10)\n",
    "quant_fi = df_feats_impts[[\"word\",\"categories_quant-ph\"]].sort_values(by = \"categories_quant-ph\", ascending = False).head(10)\n",
    "\n",
    "plt.style.use('fivethirtyeight') \n",
    "\n",
    "#Plotting top 5 words based on coefficient values from the LR model\n",
    "fig,(ax1, ax2) = plt.subplots(2,3,figsize=(20,15))\n",
    "sns.barplot(x = \"categories_astro-ph\", y = \"word\", ax = ax1[0], data = astro_fi,  palette = 'mako')\n",
    "sns.barplot(x = \"categories_gr-qc\", y = \"word\", ax = ax1[1], data = gr_fi, palette = 'mako')\n",
    "sns.barplot(x = \"categories_hep-ph\", y = \"word\", ax = ax1[2], data = hep_ph_fi, palette = 'mako')\n",
    "sns.barplot(x = \"categories_hep-th\", y = \"word\", ax = ax2[0], data = hep_th_fi, palette = 'mako')\n",
    "sns.barplot(x = \"categories_quant-ph\", y = \"word\", ax = ax2[1], data = quant_fi, palette = 'mako')\n",
    "plt.suptitle(\"Feature Importance\")\n",
    "fig.tight_layout(rect=[0, 0.03, 1, 0.95])\n",
    "plt.show()\n"
   ]
  },
  {
   "cell_type": "code",
   "execution_count": null,
   "metadata": {},
   "outputs": [],
   "source": []
  }
 ],
 "metadata": {
  "kernelspec": {
   "display_name": "Python [conda env:PythonCPU]",
   "language": "python",
   "name": "conda-env-PythonCPU-py"
  },
  "language_info": {
   "codemirror_mode": {
    "name": "ipython",
    "version": 3
   },
   "file_extension": ".py",
   "mimetype": "text/x-python",
   "name": "python",
   "nbconvert_exporter": "python",
   "pygments_lexer": "ipython3",
   "version": "3.7.3"
  }
 },
 "nbformat": 4,
 "nbformat_minor": 4
}
